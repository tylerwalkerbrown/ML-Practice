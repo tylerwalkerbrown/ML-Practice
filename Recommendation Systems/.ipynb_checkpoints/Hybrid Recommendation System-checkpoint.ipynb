{
 "cells": [
  {
   "cell_type": "code",
   "execution_count": 3,
   "id": "64e581d8-7f9c-4dd9-bb22-cc105cfde2bf",
   "metadata": {},
   "outputs": [],
   "source": [
    "import pandas as pd\n",
    "import numpy as np\n",
    "import matplotlib.pyplot as plt\n",
    "import seaborn as sns"
   ]
  },
  {
   "cell_type": "markdown",
   "id": "82478756-ebfe-4d4a-b599-6fde25b30605",
   "metadata": {},
   "source": [
    "# Hybrid Weight Recommnedation System"
   ]
  },
  {
   "cell_type": "code",
   "execution_count": 7,
   "id": "a3d17e1f-aff5-4c9d-ae03-f14ebab500d6",
   "metadata": {},
   "outputs": [
    {
     "name": "stderr",
     "output_type": "stream",
     "text": [
      "/var/folders/d5/yv3yty4s3y33ty4r_pc546j80000gn/T/ipykernel_71509/1650877637.py:1: DtypeWarning: Columns (10) have mixed types. Specify dtype option on import or set low_memory=False.\n",
      "  df = pd.read_csv(\"movies_metadata.csv\")\n"
     ]
    }
   ],
   "source": [
    "df = pd.read_csv(\"movies_metadata.csv\")"
   ]
  },
  {
   "cell_type": "markdown",
   "id": "33af0d4e-7bf8-4e86-91eb-53ffa05d25b6",
   "metadata": {},
   "source": [
    "Contains 45466 rows of data with a lot of nulls in the home back section. Next we will drop the nulls to get a cleaner datset for recommendations."
   ]
  },
  {
   "cell_type": "code",
   "execution_count": 9,
   "id": "1e6e38a0-0927-4284-b401-6d6d0a699e7b",
   "metadata": {},
   "outputs": [
    {
     "name": "stdout",
     "output_type": "stream",
     "text": [
      "<class 'pandas.core.frame.DataFrame'>\n",
      "RangeIndex: 45466 entries, 0 to 45465\n",
      "Data columns (total 24 columns):\n",
      " #   Column                 Non-Null Count  Dtype  \n",
      "---  ------                 --------------  -----  \n",
      " 0   adult                  45466 non-null  object \n",
      " 1   belongs_to_collection  4494 non-null   object \n",
      " 2   budget                 45466 non-null  object \n",
      " 3   genres                 45466 non-null  object \n",
      " 4   homepage               7782 non-null   object \n",
      " 5   id                     45466 non-null  object \n",
      " 6   imdb_id                45449 non-null  object \n",
      " 7   original_language      45455 non-null  object \n",
      " 8   original_title         45466 non-null  object \n",
      " 9   overview               44512 non-null  object \n",
      " 10  popularity             45461 non-null  object \n",
      " 11  poster_path            45080 non-null  object \n",
      " 12  production_companies   45463 non-null  object \n",
      " 13  production_countries   45463 non-null  object \n",
      " 14  release_date           45379 non-null  object \n",
      " 15  revenue                45460 non-null  float64\n",
      " 16  runtime                45203 non-null  float64\n",
      " 17  spoken_languages       45460 non-null  object \n",
      " 18  status                 45379 non-null  object \n",
      " 19  tagline                20412 non-null  object \n",
      " 20  title                  45460 non-null  object \n",
      " 21  video                  45460 non-null  object \n",
      " 22  vote_average           45460 non-null  float64\n",
      " 23  vote_count             45460 non-null  float64\n",
      "dtypes: float64(4), object(20)\n",
      "memory usage: 8.3+ MB\n"
     ]
    }
   ],
   "source": [
    "df.info()"
   ]
  },
  {
   "cell_type": "code",
   "execution_count": 10,
   "id": "00152c6e-b2e9-4699-80f9-ee88de439983",
   "metadata": {},
   "outputs": [],
   "source": [
    "df.dropna( inplace = True )"
   ]
  },
  {
   "cell_type": "code",
   "execution_count": 11,
   "id": "00be48f3-eee8-4e84-9e01-809033698d58",
   "metadata": {},
   "outputs": [
    {
     "name": "stdout",
     "output_type": "stream",
     "text": [
      "<class 'pandas.core.frame.DataFrame'>\n",
      "Int64Index: 693 entries, 9 to 45029\n",
      "Data columns (total 24 columns):\n",
      " #   Column                 Non-Null Count  Dtype  \n",
      "---  ------                 --------------  -----  \n",
      " 0   adult                  693 non-null    object \n",
      " 1   belongs_to_collection  693 non-null    object \n",
      " 2   budget                 693 non-null    object \n",
      " 3   genres                 693 non-null    object \n",
      " 4   homepage               693 non-null    object \n",
      " 5   id                     693 non-null    object \n",
      " 6   imdb_id                693 non-null    object \n",
      " 7   original_language      693 non-null    object \n",
      " 8   original_title         693 non-null    object \n",
      " 9   overview               693 non-null    object \n",
      " 10  popularity             693 non-null    object \n",
      " 11  poster_path            693 non-null    object \n",
      " 12  production_companies   693 non-null    object \n",
      " 13  production_countries   693 non-null    object \n",
      " 14  release_date           693 non-null    object \n",
      " 15  revenue                693 non-null    float64\n",
      " 16  runtime                693 non-null    float64\n",
      " 17  spoken_languages       693 non-null    object \n",
      " 18  status                 693 non-null    object \n",
      " 19  tagline                693 non-null    object \n",
      " 20  title                  693 non-null    object \n",
      " 21  video                  693 non-null    object \n",
      " 22  vote_average           693 non-null    float64\n",
      " 23  vote_count             693 non-null    float64\n",
      "dtypes: float64(4), object(20)\n",
      "memory usage: 135.4+ KB\n"
     ]
    }
   ],
   "source": [
    "df.info()"
   ]
  },
  {
   "cell_type": "code",
   "execution_count": 20,
   "id": "402af41d-82cc-43c5-a300-7226af9b64f6",
   "metadata": {},
   "outputs": [
    {
     "data": {
      "text/html": [
       "<div>\n",
       "<style scoped>\n",
       "    .dataframe tbody tr th:only-of-type {\n",
       "        vertical-align: middle;\n",
       "    }\n",
       "\n",
       "    .dataframe tbody tr th {\n",
       "        vertical-align: top;\n",
       "    }\n",
       "\n",
       "    .dataframe thead th {\n",
       "        text-align: right;\n",
       "    }\n",
       "</style>\n",
       "<table border=\"1\" class=\"dataframe\">\n",
       "  <thead>\n",
       "    <tr style=\"text-align: right;\">\n",
       "      <th></th>\n",
       "      <th>adult</th>\n",
       "      <th>belongs_to_collection</th>\n",
       "      <th>budget</th>\n",
       "      <th>genres</th>\n",
       "      <th>homepage</th>\n",
       "      <th>id</th>\n",
       "      <th>imdb_id</th>\n",
       "      <th>original_language</th>\n",
       "      <th>original_title</th>\n",
       "      <th>overview</th>\n",
       "      <th>...</th>\n",
       "      <th>revenue</th>\n",
       "      <th>runtime</th>\n",
       "      <th>spoken_languages</th>\n",
       "      <th>status</th>\n",
       "      <th>tagline</th>\n",
       "      <th>title</th>\n",
       "      <th>video</th>\n",
       "      <th>vote_average</th>\n",
       "      <th>vote_count</th>\n",
       "      <th>weight</th>\n",
       "    </tr>\n",
       "  </thead>\n",
       "  <tbody>\n",
       "    <tr>\n",
       "      <th>9</th>\n",
       "      <td>False</td>\n",
       "      <td>{'id': 645, 'name': 'James Bond Collection', '...</td>\n",
       "      <td>58000000</td>\n",
       "      <td>[{'id': 12, 'name': 'Adventure'}, {'id': 28, '...</td>\n",
       "      <td>http://www.mgm.com/view/movie/757/Goldeneye/</td>\n",
       "      <td>710</td>\n",
       "      <td>tt0113189</td>\n",
       "      <td>en</td>\n",
       "      <td>GoldenEye</td>\n",
       "      <td>James Bond must unmask the mysterious head of ...</td>\n",
       "      <td>...</td>\n",
       "      <td>352194034.0</td>\n",
       "      <td>130.0</td>\n",
       "      <td>[{'iso_639_1': 'en', 'name': 'English'}, {'iso...</td>\n",
       "      <td>Released</td>\n",
       "      <td>No limits. No fears. No substitutes.</td>\n",
       "      <td>GoldenEye</td>\n",
       "      <td>False</td>\n",
       "      <td>6.6</td>\n",
       "      <td>1194.0</td>\n",
       "      <td>6.394964</td>\n",
       "    </tr>\n",
       "    <tr>\n",
       "      <th>68</th>\n",
       "      <td>False</td>\n",
       "      <td>{'id': 43563, 'name': 'Friday Collection', 'po...</td>\n",
       "      <td>3500000</td>\n",
       "      <td>[{'id': 35, 'name': 'Comedy'}]</td>\n",
       "      <td>http://www.newline.com/properties/friday.html</td>\n",
       "      <td>10634</td>\n",
       "      <td>tt0113118</td>\n",
       "      <td>en</td>\n",
       "      <td>Friday</td>\n",
       "      <td>Craig and Smokey are two guys in Los Angeles h...</td>\n",
       "      <td>...</td>\n",
       "      <td>28215918.0</td>\n",
       "      <td>91.0</td>\n",
       "      <td>[{'iso_639_1': 'en', 'name': 'English'}]</td>\n",
       "      <td>Released</td>\n",
       "      <td>A lot can go down between thursday and saturda...</td>\n",
       "      <td>Friday</td>\n",
       "      <td>False</td>\n",
       "      <td>7.0</td>\n",
       "      <td>513.0</td>\n",
       "      <td>6.421321</td>\n",
       "    </tr>\n",
       "    <tr>\n",
       "      <th>69</th>\n",
       "      <td>False</td>\n",
       "      <td>{'id': 10924, 'name': 'From Dusk Till Dawn Col...</td>\n",
       "      <td>19000000</td>\n",
       "      <td>[{'id': 27, 'name': 'Horror'}, {'id': 28, 'nam...</td>\n",
       "      <td>http://www.miramax.com/movie/from-dusk-till-dawn/</td>\n",
       "      <td>755</td>\n",
       "      <td>tt0116367</td>\n",
       "      <td>en</td>\n",
       "      <td>From Dusk Till Dawn</td>\n",
       "      <td>Seth Gecko and his younger brother Richard are...</td>\n",
       "      <td>...</td>\n",
       "      <td>25836616.0</td>\n",
       "      <td>108.0</td>\n",
       "      <td>[{'iso_639_1': 'en', 'name': 'English'}, {'iso...</td>\n",
       "      <td>Released</td>\n",
       "      <td>One night is all that stands between them and ...</td>\n",
       "      <td>From Dusk Till Dawn</td>\n",
       "      <td>False</td>\n",
       "      <td>6.9</td>\n",
       "      <td>1644.0</td>\n",
       "      <td>6.556749</td>\n",
       "    </tr>\n",
       "    <tr>\n",
       "      <th>153</th>\n",
       "      <td>False</td>\n",
       "      <td>{'id': 439053, 'name': 'Brooklyn Cigar Store C...</td>\n",
       "      <td>2000000</td>\n",
       "      <td>[{'id': 35, 'name': 'Comedy'}]</td>\n",
       "      <td>http://miramax.com/movie/blue-in-the-face/</td>\n",
       "      <td>5894</td>\n",
       "      <td>tt0112541</td>\n",
       "      <td>en</td>\n",
       "      <td>Blue in the Face</td>\n",
       "      <td>Auggie runs a small tobacco shop in Brooklyn, ...</td>\n",
       "      <td>...</td>\n",
       "      <td>1275000.0</td>\n",
       "      <td>83.0</td>\n",
       "      <td>[{'iso_639_1': 'en', 'name': 'English'}]</td>\n",
       "      <td>Released</td>\n",
       "      <td>Welcome to the planet Brooklyn.</td>\n",
       "      <td>Blue in the Face</td>\n",
       "      <td>False</td>\n",
       "      <td>6.8</td>\n",
       "      <td>28.0</td>\n",
       "      <td>6.278391</td>\n",
       "    </tr>\n",
       "    <tr>\n",
       "      <th>178</th>\n",
       "      <td>False</td>\n",
       "      <td>{'id': 286162, 'name': 'Power Rangers Collecti...</td>\n",
       "      <td>15000000</td>\n",
       "      <td>[{'id': 28, 'name': 'Action'}, {'id': 12, 'nam...</td>\n",
       "      <td>http://www.powerrangers.com/</td>\n",
       "      <td>9070</td>\n",
       "      <td>tt0113820</td>\n",
       "      <td>en</td>\n",
       "      <td>Mighty Morphin Power Rangers: The Movie</td>\n",
       "      <td>Power up with six incredible teens who out-man...</td>\n",
       "      <td>...</td>\n",
       "      <td>66000000.0</td>\n",
       "      <td>92.0</td>\n",
       "      <td>[{'iso_639_1': 'en', 'name': 'English'}]</td>\n",
       "      <td>Released</td>\n",
       "      <td>The Power Is On!</td>\n",
       "      <td>Mighty Morphin Power Rangers: The Movie</td>\n",
       "      <td>False</td>\n",
       "      <td>5.2</td>\n",
       "      <td>153.0</td>\n",
       "      <td>6.193985</td>\n",
       "    </tr>\n",
       "  </tbody>\n",
       "</table>\n",
       "<p>5 rows × 25 columns</p>\n",
       "</div>"
      ],
      "text/plain": [
       "     adult                              belongs_to_collection    budget  \\\n",
       "9    False  {'id': 645, 'name': 'James Bond Collection', '...  58000000   \n",
       "68   False  {'id': 43563, 'name': 'Friday Collection', 'po...   3500000   \n",
       "69   False  {'id': 10924, 'name': 'From Dusk Till Dawn Col...  19000000   \n",
       "153  False  {'id': 439053, 'name': 'Brooklyn Cigar Store C...   2000000   \n",
       "178  False  {'id': 286162, 'name': 'Power Rangers Collecti...  15000000   \n",
       "\n",
       "                                                genres  \\\n",
       "9    [{'id': 12, 'name': 'Adventure'}, {'id': 28, '...   \n",
       "68                      [{'id': 35, 'name': 'Comedy'}]   \n",
       "69   [{'id': 27, 'name': 'Horror'}, {'id': 28, 'nam...   \n",
       "153                     [{'id': 35, 'name': 'Comedy'}]   \n",
       "178  [{'id': 28, 'name': 'Action'}, {'id': 12, 'nam...   \n",
       "\n",
       "                                              homepage     id    imdb_id  \\\n",
       "9         http://www.mgm.com/view/movie/757/Goldeneye/    710  tt0113189   \n",
       "68       http://www.newline.com/properties/friday.html  10634  tt0113118   \n",
       "69   http://www.miramax.com/movie/from-dusk-till-dawn/    755  tt0116367   \n",
       "153         http://miramax.com/movie/blue-in-the-face/   5894  tt0112541   \n",
       "178                       http://www.powerrangers.com/   9070  tt0113820   \n",
       "\n",
       "    original_language                           original_title  \\\n",
       "9                  en                                GoldenEye   \n",
       "68                 en                                   Friday   \n",
       "69                 en                      From Dusk Till Dawn   \n",
       "153                en                         Blue in the Face   \n",
       "178                en  Mighty Morphin Power Rangers: The Movie   \n",
       "\n",
       "                                              overview  ...      revenue  \\\n",
       "9    James Bond must unmask the mysterious head of ...  ...  352194034.0   \n",
       "68   Craig and Smokey are two guys in Los Angeles h...  ...   28215918.0   \n",
       "69   Seth Gecko and his younger brother Richard are...  ...   25836616.0   \n",
       "153  Auggie runs a small tobacco shop in Brooklyn, ...  ...    1275000.0   \n",
       "178  Power up with six incredible teens who out-man...  ...   66000000.0   \n",
       "\n",
       "    runtime                                   spoken_languages    status  \\\n",
       "9     130.0  [{'iso_639_1': 'en', 'name': 'English'}, {'iso...  Released   \n",
       "68     91.0           [{'iso_639_1': 'en', 'name': 'English'}]  Released   \n",
       "69    108.0  [{'iso_639_1': 'en', 'name': 'English'}, {'iso...  Released   \n",
       "153    83.0           [{'iso_639_1': 'en', 'name': 'English'}]  Released   \n",
       "178    92.0           [{'iso_639_1': 'en', 'name': 'English'}]  Released   \n",
       "\n",
       "                                               tagline  \\\n",
       "9                 No limits. No fears. No substitutes.   \n",
       "68   A lot can go down between thursday and saturda...   \n",
       "69   One night is all that stands between them and ...   \n",
       "153                    Welcome to the planet Brooklyn.   \n",
       "178                                   The Power Is On!   \n",
       "\n",
       "                                       title  video vote_average vote_count  \\\n",
       "9                                  GoldenEye  False          6.6     1194.0   \n",
       "68                                    Friday  False          7.0      513.0   \n",
       "69                       From Dusk Till Dawn  False          6.9     1644.0   \n",
       "153                         Blue in the Face  False          6.8       28.0   \n",
       "178  Mighty Morphin Power Rangers: The Movie  False          5.2      153.0   \n",
       "\n",
       "       weight  \n",
       "9    6.394964  \n",
       "68   6.421321  \n",
       "69   6.556749  \n",
       "153  6.278391  \n",
       "178  6.193985  \n",
       "\n",
       "[5 rows x 25 columns]"
      ]
     },
     "execution_count": 20,
     "metadata": {},
     "output_type": "execute_result"
    }
   ],
   "source": [
    "df.head()"
   ]
  },
  {
   "attachments": {
    "4a6ed67c-0ca0-473c-9c01-a786a6e141cd.png": {
     "image/png": "[encoded data removed]"
    }
   },
   "cell_type": "markdown",
   "id": "f2237459-67da-473c-8bb2-3ea38c17d158",
   "metadata": {},
   "source": [
    "# Computing the weights \n",
    " - Here we will use the weighted hybrid technique\n",
    "    - Weighted hybrid takes in the users personal information and favors the variables that best fit the user to give a best recommendation \n",
    "    \n",
    "![image.png](attachment:4a6ed67c-0ca0-473c-9c01-a786a6e141cd.png)"
   ]
  },
  {
   "cell_type": "markdown",
   "id": "a75e0740-fbd8-40c7-b7d8-961dd273cfc2",
   "metadata": {},
   "source": [
    "Here we obtained the values needed to compute the weight rating. Getting the bottonm 70% of the data in m."
   ]
  },
  {
   "cell_type": "code",
   "execution_count": 13,
   "id": "ba6212f5-c17a-4301-b07f-e2a487214e6b",
   "metadata": {},
   "outputs": [],
   "source": [
    "v = df['vote_count']\n",
    "R = df['vote_average']\n",
    "C = df['vote_average'].mean()\n",
    "#Obtaining the top 30 % of votes\n",
    "m = df['vote_count'].quantile(.7)"
   ]
  },
  {
   "cell_type": "markdown",
   "id": "668cc28a-31ff-4764-86a8-352cf0b9659e",
   "metadata": {},
   "source": [
    "Now we have to compute the average weight using the formula above to assign as a new column for computation "
   ]
  },
  {
   "cell_type": "code",
   "execution_count": 14,
   "id": "693a1415-b186-4803-845c-373fa3f60c15",
   "metadata": {},
   "outputs": [],
   "source": [
    "df['weight'] = ((R*v) + (C * m)) / (v + m)"
   ]
  },
  {
   "cell_type": "markdown",
   "id": "74564dfb-b3c9-452f-a6c8-54a8847b4b71",
   "metadata": {},
   "source": [
    "Next we have to sort the movies based on weight. This will make it so when we go and suggest the movies based on the desired magnitude."
   ]
  },
  {
   "cell_type": "code",
   "execution_count": 15,
   "id": "9d2e9e9f-48ad-41cb-888b-8a84f5de7c1c",
   "metadata": {},
   "outputs": [],
   "source": [
    "sorted_ranking = df.sort_values('weight', ascending = False)"
   ]
  },
  {
   "cell_type": "code",
   "execution_count": 17,
   "id": "a80685f3-cc1d-4f14-9759-3a2d95b583cb",
   "metadata": {},
   "outputs": [
    {
     "data": {
      "text/html": [
       "<div>\n",
       "<style scoped>\n",
       "    .dataframe tbody tr th:only-of-type {\n",
       "        vertical-align: middle;\n",
       "    }\n",
       "\n",
       "    .dataframe tbody tr th {\n",
       "        vertical-align: top;\n",
       "    }\n",
       "\n",
       "    .dataframe thead th {\n",
       "        text-align: right;\n",
       "    }\n",
       "</style>\n",
       "<table border=\"1\" class=\"dataframe\">\n",
       "  <thead>\n",
       "    <tr style=\"text-align: right;\">\n",
       "      <th></th>\n",
       "      <th>original_title</th>\n",
       "      <th>vote_count</th>\n",
       "      <th>vote_average</th>\n",
       "      <th>weight</th>\n",
       "      <th>popularity</th>\n",
       "    </tr>\n",
       "  </thead>\n",
       "  <tbody>\n",
       "    <tr>\n",
       "      <th>12481</th>\n",
       "      <td>The Dark Knight</td>\n",
       "      <td>12269.0</td>\n",
       "      <td>8.3</td>\n",
       "      <td>8.018693</td>\n",
       "      <td>123.167259</td>\n",
       "    </tr>\n",
       "    <tr>\n",
       "      <th>834</th>\n",
       "      <td>The Godfather</td>\n",
       "      <td>6024.0</td>\n",
       "      <td>8.5</td>\n",
       "      <td>7.949688</td>\n",
       "      <td>41.109264</td>\n",
       "    </tr>\n",
       "    <tr>\n",
       "      <th>7000</th>\n",
       "      <td>The Lord of the Rings: The Return of the King</td>\n",
       "      <td>8226.0</td>\n",
       "      <td>8.1</td>\n",
       "      <td>7.745918</td>\n",
       "      <td>29.324358</td>\n",
       "    </tr>\n",
       "    <tr>\n",
       "      <th>1154</th>\n",
       "      <td>The Empire Strikes Back</td>\n",
       "      <td>5998.0</td>\n",
       "      <td>8.2</td>\n",
       "      <td>7.722201</td>\n",
       "      <td>19.470959</td>\n",
       "    </tr>\n",
       "    <tr>\n",
       "      <th>256</th>\n",
       "      <td>Star Wars</td>\n",
       "      <td>6778.0</td>\n",
       "      <td>8.1</td>\n",
       "      <td>7.687341</td>\n",
       "      <td>42.149697</td>\n",
       "    </tr>\n",
       "    <tr>\n",
       "      <th>4863</th>\n",
       "      <td>The Lord of the Rings: The Fellowship of the Ring</td>\n",
       "      <td>8892.0</td>\n",
       "      <td>8.0</td>\n",
       "      <td>7.685792</td>\n",
       "      <td>32.070725</td>\n",
       "    </tr>\n",
       "    <tr>\n",
       "      <th>5814</th>\n",
       "      <td>The Lord of the Rings: The Two Towers</td>\n",
       "      <td>7641.0</td>\n",
       "      <td>8.0</td>\n",
       "      <td>7.644914</td>\n",
       "      <td>29.423537</td>\n",
       "    </tr>\n",
       "    <tr>\n",
       "      <th>23753</th>\n",
       "      <td>Guardians of the Galaxy</td>\n",
       "      <td>10014.0</td>\n",
       "      <td>7.9</td>\n",
       "      <td>7.631670</td>\n",
       "      <td>53.291601</td>\n",
       "    </tr>\n",
       "    <tr>\n",
       "      <th>2458</th>\n",
       "      <td>The Matrix</td>\n",
       "      <td>9079.0</td>\n",
       "      <td>7.9</td>\n",
       "      <td>7.608973</td>\n",
       "      <td>33.366332</td>\n",
       "    </tr>\n",
       "    <tr>\n",
       "      <th>1225</th>\n",
       "      <td>Back to the Future</td>\n",
       "      <td>6239.0</td>\n",
       "      <td>8.0</td>\n",
       "      <td>7.584305</td>\n",
       "      <td>25.778509</td>\n",
       "    </tr>\n",
       "  </tbody>\n",
       "</table>\n",
       "</div>"
      ],
      "text/plain": [
       "                                          original_title  vote_count  \\\n",
       "12481                                    The Dark Knight     12269.0   \n",
       "834                                        The Godfather      6024.0   \n",
       "7000       The Lord of the Rings: The Return of the King      8226.0   \n",
       "1154                             The Empire Strikes Back      5998.0   \n",
       "256                                            Star Wars      6778.0   \n",
       "4863   The Lord of the Rings: The Fellowship of the Ring      8892.0   \n",
       "5814               The Lord of the Rings: The Two Towers      7641.0   \n",
       "23753                            Guardians of the Galaxy     10014.0   \n",
       "2458                                          The Matrix      9079.0   \n",
       "1225                                  Back to the Future      6239.0   \n",
       "\n",
       "       vote_average    weight  popularity  \n",
       "12481           8.3  8.018693  123.167259  \n",
       "834             8.5  7.949688   41.109264  \n",
       "7000            8.1  7.745918   29.324358  \n",
       "1154            8.2  7.722201   19.470959  \n",
       "256             8.1  7.687341   42.149697  \n",
       "4863            8.0  7.685792   32.070725  \n",
       "5814            8.0  7.644914   29.423537  \n",
       "23753           7.9  7.631670   53.291601  \n",
       "2458            7.9  7.608973   33.366332  \n",
       "1225            8.0  7.584305   25.778509  "
      ]
     },
     "execution_count": 17,
     "metadata": {},
     "output_type": "execute_result"
    }
   ],
   "source": [
    "sorted_ranking[['original_title', 'vote_count', 'vote_average', 'weight', 'popularity']].head(10)\n"
   ]
  },
  {
   "cell_type": "markdown",
   "id": "ce40a0c8-cba6-4487-87d8-045b749e2fbc",
   "metadata": {},
   "source": [
    "From this bar plot we can see that the Dark Knight is the top recommended movie for the observations taken in. "
   ]
  },
  {
   "cell_type": "code",
   "execution_count": 19,
   "id": "73933ccf-5258-497c-a92f-cb48a990b442",
   "metadata": {},
   "outputs": [
    {
     "data": {
      "text/plain": [
       "Text(0, 0.5, 'Movie Title')"
      ]
     },
     "execution_count": 19,
     "metadata": {},
     "output_type": "execute_result"
    },
    {
     "data": {
      "image/png": "[encoded data removed]",
      "text/plain": [
       "<Figure size 864x432 with 1 Axes>"
      ]
     },
     "metadata": {
      "needs_background": "light"
     },
     "output_type": "display_data"
    }
   ],
   "source": [
    "weight_avg=sorted_ranking.sort_values('weight',ascending=False)\n",
    "plt.figure(figsize=(12,6))\n",
    "axis1=sns.barplot(x=weight_avg['weight'].head(10), y=weight_avg['original_title'].head(10), data=weight_avg)\n",
    "plt.xlim(4, 10)\n",
    "plt.title('Best Movies by average votes', weight='bold')\n",
    "plt.xlabel('Weighted Average Score', weight='bold')\n",
    "plt.ylabel('Movie Title', weight='bold')\n",
    "#plt.savefig('best_movies.png')"
   ]
  }
 ],
 "metadata": {
  "kernelspec": {
   "display_name": "Python 3 (ipykernel)",
   "language": "python",
   "name": "python3"
  },
  "language_info": {
   "codemirror_mode": {
    "name": "ipython",
    "version": 3
   },
   "file_extension": ".py",
   "mimetype": "text/x-python",
   "name": "python",
   "nbconvert_exporter": "python",
   "pygments_lexer": "ipython3",
   "version": "3.9.12"
  }
 },
 "nbformat": 4,
 "nbformat_minor": 5
}
